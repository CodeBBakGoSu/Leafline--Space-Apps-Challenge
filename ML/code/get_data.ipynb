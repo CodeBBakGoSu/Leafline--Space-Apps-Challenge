{
 "cells": [
  {
   "cell_type": "code",
   "execution_count": 1,
   "id": "32bc598f",
   "metadata": {},
   "outputs": [],
   "source": [
    "import ee, geemap, pandas as pd\n",
    "from datetime import datetime\n",
    "\n",
    "try:\n",
    "    ee.Initialize()\n",
    "except Exception as e:\n",
    "    ee.Authenticate()\n",
    "    ee.Initialize()\n",
    "\n",
    "# 분석 대상 지역 좌표\n",
    "lat, lon = 28.565038182965658, -81.15889424232911   # Florida, USA Beekeeper\n",
    "point = ee.Geometry.Point(lon, lat).buffer(5000)\n",
    "\n",
    "# 분석 기간\n",
    "start_year, end_year = 2014, 2024\n",
    "start_date = f\"{start_year}-01-01\"\n",
    "end_date = f\"{end_year}-12-31\"\n"
   ]
  },
  {
   "cell_type": "code",
   "execution_count": 2,
   "id": "d18e8fb1",
   "metadata": {},
   "outputs": [
    {
     "data": {
      "text/html": [
       "\n",
       "            <style>\n",
       "                .geemap-dark {\n",
       "                    --jp-widgets-color: white;\n",
       "                    --jp-widgets-label-color: white;\n",
       "                    --jp-ui-font-color1: white;\n",
       "                    --jp-layout-color2: #454545;\n",
       "                    background-color: #383838;\n",
       "                }\n",
       "\n",
       "                .geemap-dark .jupyter-button {\n",
       "                    --jp-layout-color3: #383838;\n",
       "                }\n",
       "\n",
       "                .geemap-colab {\n",
       "                    background-color: var(--colab-primary-surface-color, white);\n",
       "                }\n",
       "\n",
       "                .geemap-colab .jupyter-button {\n",
       "                    --jp-layout-color3: var(--colab-primary-surface-color, white);\n",
       "                }\n",
       "            </style>\n",
       "            "
      ],
      "text/plain": [
       "<IPython.core.display.HTML object>"
      ]
     },
     "metadata": {},
     "output_type": "display_data"
    },
    {
     "name": "stderr",
     "output_type": "stream",
     "text": [
      "c:\\sehwi\\NASAHackerton\\.venv\\Lib\\site-packages\\ee\\deprecation.py:209: DeprecationWarning: \n",
      "\n",
      "Attention required for MODIS/006/MOD13Q1! You are using a deprecated asset.\n",
      "To make sure your code keeps working, please update it.\n",
      "Learn more: https://developers.google.com/earth-engine/datasets/catalog/MODIS_006_MOD13Q1\n",
      "\n",
      "  warnings.warn(warning, category=DeprecationWarning)\n"
     ]
    },
    {
     "name": "stdout",
     "output_type": "stream",
     "text": [
      "        EVI       date  DOY\n",
      "0  0.338458 2014-01-01    1\n",
      "1  0.297923 2014-01-17   17\n",
      "2  0.263740 2014-02-02   33\n",
      "3  0.282372 2014-02-18   49\n",
      "4  0.330245 2014-03-06   65\n"
     ]
    }
   ],
   "source": [
    "def ee_fc_to_pandas(fc):\n",
    "    \"\"\"GEE FeatureCollection → pandas DataFrame 변환\"\"\"\n",
    "    data = fc.aggregate_array(\"EVI\").getInfo()\n",
    "    dates = fc.aggregate_array(\"date\").getInfo()\n",
    "    return pd.DataFrame({\"EVI\": data, \"date\": pd.to_datetime(dates)})\n",
    " \n",
    "def get_modis_evi(point, start_date, end_date):\n",
    "    modis = (\n",
    "        ee.ImageCollection(\"MODIS/006/MOD13Q1\")\n",
    "        .filterDate(start_date, end_date)\n",
    "        .select(\"EVI\")\n",
    "        .map(lambda img: img.multiply(0.0001).copyProperties(img, [\"system:time_start\"]))\n",
    "    )\n",
    "\n",
    "    def extract(img):\n",
    "        mean = img.reduceRegion(\n",
    "            reducer=ee.Reducer.mean(),\n",
    "            geometry=point,\n",
    "            scale=250,\n",
    "            bestEffort=True\n",
    "        )\n",
    "        return ee.Feature(None, {\n",
    "            \"EVI\": mean.get(\"EVI\"),\n",
    "            \"date\": ee.Date(img.get(\"system:time_start\")).format(\"YYYY-MM-dd\")\n",
    "        })\n",
    "\n",
    "    evi_fc = modis.map(extract)\n",
    "    evi_df = ee_fc_to_pandas(evi_fc)\n",
    "\n",
    "    # 후처리\n",
    "    evi_df[\"date\"] = pd.to_datetime(evi_df[\"date\"])\n",
    "    evi_df[\"DOY\"] = evi_df[\"date\"].dt.dayofyear\n",
    "    evi_df = evi_df.sort_values(\"date\").reset_index(drop=True)\n",
    "    return evi_df\n",
    "\n",
    "evi_df = get_modis_evi(point, start_date, end_date)\n",
    "print(evi_df.head())"
   ]
  },
  {
   "cell_type": "code",
   "execution_count": 3,
   "id": "38684b81",
   "metadata": {},
   "outputs": [
    {
     "data": {
      "text/html": [
       "\n",
       "            <style>\n",
       "                .geemap-dark {\n",
       "                    --jp-widgets-color: white;\n",
       "                    --jp-widgets-label-color: white;\n",
       "                    --jp-ui-font-color1: white;\n",
       "                    --jp-layout-color2: #454545;\n",
       "                    background-color: #383838;\n",
       "                }\n",
       "\n",
       "                .geemap-dark .jupyter-button {\n",
       "                    --jp-layout-color3: #383838;\n",
       "                }\n",
       "\n",
       "                .geemap-colab {\n",
       "                    background-color: var(--colab-primary-surface-color, white);\n",
       "                }\n",
       "\n",
       "                .geemap-colab .jupyter-button {\n",
       "                    --jp-layout-color3: var(--colab-primary-surface-color, white);\n",
       "                }\n",
       "            </style>\n",
       "            "
      ],
      "text/plain": [
       "<IPython.core.display.HTML object>"
      ]
     },
     "metadata": {},
     "output_type": "display_data"
    },
    {
     "name": "stdout",
     "output_type": "stream",
     "text": [
      "        tmax       tmin          dayl      prcp           vp       date  DOY\n",
      "0  19.673153  14.731668  36784.094970  2.156205  1675.245357 2014-01-01    1\n",
      "1  26.422009  15.633673  36809.778666  8.354220  1775.294028 2014-01-02    2\n",
      "2  18.108784   7.232691  36837.573028  0.000000  1017.511743 2014-01-03    3\n",
      "3  19.607913   7.262861  36867.466580  0.000000  1019.680003 2014-01-04    4\n",
      "4  25.794135  11.534537  36899.431665  0.000000  1359.405605 2014-01-05    5\n"
     ]
    }
   ],
   "source": [
    "def ee_fc_to_pandas_safe(fc, keys):\n",
    "    arrays = {k: fc.aggregate_array(k).getInfo() for k in keys}\n",
    "    min_len = min(len(v) for v in arrays.values())\n",
    "    arrays = {k: v[:min_len] for k, v in arrays.items()}\n",
    "    return pd.DataFrame(arrays)\n",
    "\n",
    "\n",
    "def get_daymet_temp(point, start_date, end_date):\n",
    "    daymet = (\n",
    "        ee.ImageCollection(\"NASA/ORNL/DAYMET_V4\")\n",
    "        .filterDate(start_date, end_date)\n",
    "        .select([\"tmax\", \"tmin\", \"dayl\", \"prcp\", \"vp\"])\n",
    "    )\n",
    "\n",
    "    def extract(img):\n",
    "        mean = img.reduceRegion(\n",
    "            reducer=ee.Reducer.mean(),\n",
    "            geometry=point,\n",
    "            scale=1000,\n",
    "            bestEffort=True\n",
    "        )\n",
    "        # tmax = ee.Number(mean.get(\"tmax\"))\n",
    "        tmax = ee.Algorithms.If(mean.contains(\"tmax\"), mean.get(\"tmax\"), -999)\n",
    "        tmin = ee.Algorithms.If(mean.contains(\"tmin\"), mean.get(\"tmin\"), -999)\n",
    "        dayl = ee.Algorithms.If(mean.contains(\"dayl\"), mean.get(\"dayl\"), -999)\n",
    "        prcp = ee.Algorithms.If(mean.contains(\"prcp\"), mean.get(\"prcp\"), -999)\n",
    "        vp = ee.Algorithms.If(mean.contains(\"vp\"), mean.get(\"vp\"), -999)\n",
    "        return ee.Feature(None, {\n",
    "            \"tmax\": tmax,\n",
    "            \"tmin\": tmin,\n",
    "            \"dayl\": dayl,\n",
    "            \"prcp\": prcp,\n",
    "            \"vp\": vp,\n",
    "            \"date\": ee.Date(img.get(\"system:time_start\")).format(\"YYYY-MM-dd\")\n",
    "        })\n",
    "\n",
    "    temp_fc = daymet.map(extract)\n",
    "    met_df = ee_fc_to_pandas_safe(temp_fc, [\"tmax\", \"tmin\", \"dayl\", \"prcp\", \"vp\", \"date\"])\n",
    "    met_df[\"date\"] = pd.to_datetime(met_df[\"date\"])\n",
    "    met_df[\"DOY\"] = met_df[\"date\"].dt.dayofyear\n",
    "    met_df = met_df.sort_values(\"date\").reset_index(drop=True)\n",
    "    return met_df\n",
    "\n",
    "met_df = get_daymet_temp(point, start_date, end_date)\n",
    "print(met_df.head())\n"
   ]
  },
  {
   "cell_type": "code",
   "execution_count": 4,
   "id": "ee7b3924",
   "metadata": {},
   "outputs": [
    {
     "data": {
      "text/html": [
       "\n",
       "            <style>\n",
       "                .geemap-dark {\n",
       "                    --jp-widgets-color: white;\n",
       "                    --jp-widgets-label-color: white;\n",
       "                    --jp-ui-font-color1: white;\n",
       "                    --jp-layout-color2: #454545;\n",
       "                    background-color: #383838;\n",
       "                }\n",
       "\n",
       "                .geemap-dark .jupyter-button {\n",
       "                    --jp-layout-color3: #383838;\n",
       "                }\n",
       "\n",
       "                .geemap-colab {\n",
       "                    background-color: var(--colab-primary-surface-color, white);\n",
       "                }\n",
       "\n",
       "                .geemap-colab .jupyter-button {\n",
       "                    --jp-layout-color3: var(--colab-primary-surface-color, white);\n",
       "                }\n",
       "            </style>\n",
       "            "
      ],
      "text/plain": [
       "<IPython.core.display.HTML object>"
      ]
     },
     "metadata": {},
     "output_type": "display_data"
    },
    {
     "name": "stdout",
     "output_type": "stream",
     "text": [
      "EVI saved to: C:\\sehwi\\NASAHackerton\\data\\output/evi_df_2014_2024.csv\n",
      "Met saved to: C:\\sehwi\\NASAHackerton\\data\\output/met_df_2014_2024.csv\n"
     ]
    }
   ],
   "source": [
    "outdir = r\"C:\\sehwi\\NASAHackerton\\data\\output\"\n",
    "import os\n",
    "os.makedirs(outdir, exist_ok=True)\n",
    "\n",
    "evi_path = f\"{outdir}/evi_df_{start_year}_{end_year}.csv\"\n",
    "met_path = f\"{outdir}/met_df_{start_year}_{end_year}.csv\"\n",
    "\n",
    "evi_df.to_csv(evi_path, index=False)\n",
    "met_df.to_csv(met_path, index=False)\n",
    "\n",
    "print(f\"EVI saved to: {evi_path}\")\n",
    "print(f\"Met saved to: {met_path}\")\n"
   ]
  },
  {
   "cell_type": "code",
   "execution_count": null,
   "id": "d0a7e6c7",
   "metadata": {},
   "outputs": [],
   "source": []
  }
 ],
 "metadata": {
  "kernelspec": {
   "display_name": ".venv (3.13.7)",
   "language": "python",
   "name": "python3"
  },
  "language_info": {
   "codemirror_mode": {
    "name": "ipython",
    "version": 3
   },
   "file_extension": ".py",
   "mimetype": "text/x-python",
   "name": "python",
   "nbconvert_exporter": "python",
   "pygments_lexer": "ipython3",
   "version": "3.13.7"
  }
 },
 "nbformat": 4,
 "nbformat_minor": 5
}
