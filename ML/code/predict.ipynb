{
 "cells": [
  {
   "cell_type": "code",
   "execution_count": 1,
   "id": "60d97dec",
   "metadata": {},
   "outputs": [
    {
     "ename": "NameError",
     "evalue": "name 'X_test' is not defined",
     "output_type": "error",
     "traceback": [
      "\u001b[31m---------------------------------------------------------------------------\u001b[39m",
      "\u001b[31mNameError\u001b[39m                                 Traceback (most recent call last)",
      "\u001b[36mCell\u001b[39m\u001b[36m \u001b[39m\u001b[32mIn[1]\u001b[39m\u001b[32m, line 5\u001b[39m\n\u001b[32m      2\u001b[39m \u001b[38;5;28;01mimport\u001b[39;00m\u001b[38;5;250m \u001b[39m\u001b[34;01mnumpy\u001b[39;00m\u001b[38;5;250m \u001b[39m\u001b[38;5;28;01mas\u001b[39;00m\u001b[38;5;250m \u001b[39m\u001b[34;01mnp\u001b[39;00m\n\u001b[32m      4\u001b[39m scaler = MinMaxScaler()\n\u001b[32m----> \u001b[39m\u001b[32m5\u001b[39m X_test_scaled = scaler.fit_transform(\u001b[43mX_test\u001b[49m)\n\u001b[32m      8\u001b[39m scaler = MinMaxScaler()\n\u001b[32m      9\u001b[39m X_test_scaled = scaler.fit_transform(X_test)\n",
      "\u001b[31mNameError\u001b[39m: name 'X_test' is not defined"
     ]
    }
   ],
   "source": [
    "from sklearn.preprocessing import MinMaxScaler\n",
    "import numpy as np\n",
    "\n",
    "scaler = MinMaxScaler()\n",
    "X_test_scaled = scaler.fit_transform(X_test)\n",
    "\n",
    "\n",
    "scaler = MinMaxScaler()\n",
    "X_test_scaled = scaler.fit_transform(X_test)\n",
    "\n",
    "# NaN이 있는 행 제거\n",
    "X_test_clean = X_test_scaled[~np.isnan(X_test_scaled).any(axis=1)]\n",
    "\n",
    "# 예측\n",
    "prediction = model.predict(X_test_clean)"
   ]
  },
  {
   "cell_type": "code",
   "execution_count": null,
   "id": "8bb2ff58",
   "metadata": {},
   "outputs": [],
   "source": [
    "import numpy as np\n",
    "\n",
    "# NaN이 있는 행 제거\n",
    "X_test_clean = X_test_scaled[~np.isnan(X_test_scaled).any(axis=1)]\n",
    "\n",
    "# 예측\n",
    "prediction = model.predict(X_test_clean)"
   ]
  },
  {
   "cell_type": "code",
   "execution_count": null,
   "id": "b9b35628",
   "metadata": {},
   "outputs": [],
   "source": [
    "prediction"
   ]
  },
  {
   "cell_type": "markdown",
   "id": "922ed1d2",
   "metadata": {},
   "source": [
    "inference에 필요한 features"
   ]
  },
  {
   "cell_type": "code",
   "execution_count": null,
   "id": "9280ead6",
   "metadata": {},
   "outputs": [],
   "source": [
    "import ee\n",
    "\n",
    "try:\n",
    "    ee.Initialize()\n",
    "except Exception:\n",
    "    ee.Authenticate()\n",
    "    ee.Initialize()\n",
    "\n",
    "# location setting\n",
    "lat, lon = 28.565038182965658, -81.15889424232911\n",
    "point = ee.Geometry.Point(lon, lat).buffer(5000)"
   ]
  },
  {
   "cell_type": "code",
   "execution_count": null,
   "id": "124d37ad",
   "metadata": {},
   "outputs": [],
   "source": [
    "import pandas as pd\n",
    "\n",
    "def ee_fc_to_pandas_safe(fc, keys):\n",
    "    arrays = {k: fc.aggregate_array(k).getInfo() for k in keys}\n",
    "    min_len = min(len(v) for v in arrays.values())\n",
    "    arrays = {k: v[:min_len] for k, v in arrays.items()}\n",
    "    return pd.DataFrame(arrays)\n",
    "def extract(img):\n",
    "    mean = img.reduceRegion(\n",
    "        reducer=ee.Reducer.mean(),\n",
    "        geometry=point,\n",
    "        scale=250,\n",
    "        bestEffort=True\n",
    "    )\n",
    "    return ee.Feature(None, {\n",
    "        \"EVI\": mean.get(\"EVI\"),\n",
    "        \"date\": ee.Date(img.get(\"system:time_start\")).format(\"YYYY-MM-dd\")\n",
    "    })\n",
    "def get_modis_evi(point, start_date, end_date):\n",
    "    \"\"\"MODIS EVI 데이터를 GEE에서 불러와 pandas DataFrame으로 변환\"\"\"\n",
    "    modis = (\n",
    "        ee.ImageCollection(\"MODIS/006/MOD13Q1\")\n",
    "        .filterDate(start_date, end_date)\n",
    "        .select(\"EVI\")\n",
    "        .map(lambda img: img.multiply(0.0001).copyProperties(img, [\"system:time_start\"]))\n",
    "    )\n",
    "\n",
    "    def extract(img):\n",
    "        mean = img.reduceRegion(\n",
    "            reducer=ee.Reducer.mean(),\n",
    "            geometry=point,\n",
    "            scale=250,\n",
    "            bestEffort=True\n",
    "        )\n",
    "        return ee.Feature(None, {\n",
    "            \"EVI\": mean.get(\"EVI\"),\n",
    "            \"date\": ee.Date(img.get(\"system:time_start\")).format(\"YYYY-MM-dd\")\n",
    "        })\n",
    "\n",
    "    evi_fc = modis.map(extract)\n",
    "    evi_df = ee_fc_to_pandas_safe(evi_fc, [\"EVI\", \"date\"])\n",
    "\n",
    "    # 후처리\n",
    "    evi_df[\"date\"] = pd.to_datetime(evi_df[\"date\"])\n",
    "    evi_df[\"DOY\"] = evi_df[\"date\"].dt.dayofyear\n",
    "    evi_df = evi_df.sort_values(\"date\").reset_index(drop=True)\n",
    "    return evi_df"
   ]
  },
  {
   "cell_type": "markdown",
   "id": "09a63b69",
   "metadata": {},
   "source": [
    "prediction"
   ]
  },
  {
   "cell_type": "code",
   "execution_count": null,
   "id": "7b887b50",
   "metadata": {},
   "outputs": [],
   "source": [
    "import joblib\n",
    "\n",
    "model = joblib.load(r'C:\\sehwi\\NASAHackerton\\data\\output\\saved_models\\ridge_model.joblib')\n",
    "model"
   ]
  },
  {
   "cell_type": "code",
   "execution_count": null,
   "id": "cb3d29be",
   "metadata": {},
   "outputs": [],
   "source": [
    "import numpy as np\n",
    "\n",
    "# NaN이 있는 행 제거\n",
    "X_test_clean = X_test_scaled[~np.isnan(X_test_scaled).any(axis=1)]\n",
    "\n",
    "# 예측\n",
    "prediction = model.predict(X_test_clean)"
   ]
  },
  {
   "cell_type": "code",
   "execution_count": null,
   "id": "f51762ad",
   "metadata": {},
   "outputs": [],
   "source": [
    "X_test = filtered_df.values.tolist()\n",
    "X_test\n",
    "X_test = filtered_df[['tmax', 'tmin', 'dayl', 'prcp', 'vp']]"
   ]
  },
  {
   "cell_type": "code",
   "execution_count": null,
   "id": "7e71c99d",
   "metadata": {},
   "outputs": [],
   "source": []
  }
 ],
 "metadata": {
  "kernelspec": {
   "display_name": ".venv (3.13.7)",
   "language": "python",
   "name": "python3"
  },
  "language_info": {
   "codemirror_mode": {
    "name": "ipython",
    "version": 3
   },
   "file_extension": ".py",
   "mimetype": "text/x-python",
   "name": "python",
   "nbconvert_exporter": "python",
   "pygments_lexer": "ipython3",
   "version": "3.13.7"
  }
 },
 "nbformat": 4,
 "nbformat_minor": 5
}
